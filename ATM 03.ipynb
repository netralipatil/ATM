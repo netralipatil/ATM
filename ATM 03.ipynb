{
 "cells": [
  {
   "cell_type": "code",
   "execution_count": 1,
   "id": "70d92a78",
   "metadata": {},
   "outputs": [],
   "source": [
    "#EX 3\n",
    "#Write a Python program to Validate phone numbers, email address and Aadhar number. \n",
    "#Write a Regular Expression to represent them. \n",
    "#Rules for Phone number\n",
    "#1. Every phone number should contains exactly 10 digits.\n",
    "#2. The first digit should be 7 or 8 or 9\n",
    "#Rules for Aadhar number\n",
    "#• Aadhar number should be of 12-digit numbers.\n",
    "#• After 4 numbers there should be white space between another 4 numbers.\n",
    "#• Aadhar numbers should not start with 0 or 1, or special characters.\n",
    "#• Aadhar number should not contain any alphabet or special characters.\n",
    "#• Aadhar number should have only numbers."
   ]
  },
  {
   "cell_type": "code",
   "execution_count": null,
   "id": "4e1ffa9a",
   "metadata": {},
   "outputs": [],
   "source": [
    "\n"
   ]
  },
  {
   "cell_type": "code",
   "execution_count": null,
   "id": "e3a53ccb",
   "metadata": {},
   "outputs": [],
   "source": [
    "import re\n",
    "\n",
    "def validate_phone_number(phone_number):\n",
    "    pattern = r'^[789]\\d{9}$'\n",
    "    return re.match(pattern, phone_number) is not None\n",
    "\n",
    "def validate_email(email):\n",
    "    pattern = r'^[a-zA-Z0-9._%+-]+@[a-zA-Z0-9.-]+\\.[a-zA-Z]{2,}$'\n",
    "    return re.match(pattern, email) is not None\n",
    "\n",
    "def validate_aadhar_number(aadhar_number):\n",
    "    pattern = r'^[2-9]\\d{3}\\s[2-9]\\d{3}\\s[2-9]\\d{3}$'\n",
    "    return re.match(pattern, aadhar_number) is not None\n",
    "\n",
    "if __name__ == \"__main__\":\n",
    "    phone_number = input(\"Enter an Indian phone number: \")\n",
    "    if validate_phone_number(phone_number):\n",
    "        print(\"Valid Indian phone number\")\n",
    "    else:\n",
    "        print(\"Invalid Indian phone number\")\n",
    "\n",
    "    email = input(\"Enter an email address: \")\n",
    "    if validate_email(email):\n",
    "        print(\"Valid email address\")\n",
    "    else:\n",
    "        print(\"Invalid email address\")\n",
    "\n",
    "    aadhar_number = input(\"Enter an Aadhar number (12 digits): \")\n",
    "    if validate_aadhar_number(aadhar_number):\n",
    "        print(\"Valid Aadhar number\")\n",
    "    else:\n",
    "        print(\"Invalid Aadhar number\")"
   ]
  },
  {
   "cell_type": "code",
   "execution_count": null,
   "id": "587972d7",
   "metadata": {},
   "outputs": [],
   "source": []
  }
 ],
 "metadata": {
  "kernelspec": {
   "display_name": "Python 3 (ipykernel)",
   "language": "python",
   "name": "python3"
  },
  "language_info": {
   "codemirror_mode": {
    "name": "ipython",
    "version": 3
   },
   "file_extension": ".py",
   "mimetype": "text/x-python",
   "name": "python",
   "nbconvert_exporter": "python",
   "pygments_lexer": "ipython3",
   "version": "3.10.9"
  }
 },
 "nbformat": 4,
 "nbformat_minor": 5
}
