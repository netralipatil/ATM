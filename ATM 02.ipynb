{
 "cells": [
  {
   "cell_type": "markdown",
   "id": "7c61b27c",
   "metadata": {},
   "source": [
    "# Ex 2:Write a Python program to demonstrate use of regular expression methods match(), search(), findall()"
   ]
  },
  {
   "cell_type": "markdown",
   "id": "b5647e37",
   "metadata": {},
   "source": [
    "# match()"
   ]
  },
  {
   "cell_type": "code",
   "execution_count": 4,
   "id": "4e94158e",
   "metadata": {},
   "outputs": [
    {
     "name": "stdout",
     "output_type": "stream",
     "text": [
      "<re.Match object; span=(0, 3), match='123'>\n"
     ]
    }
   ],
   "source": [
    "import re\n",
    "string='123'\n",
    "pattern='\\d+'\n",
    "result=re.match(pattern,string)\n",
    "print(result)"
   ]
  },
  {
   "cell_type": "markdown",
   "id": "e4072d30",
   "metadata": {},
   "source": [
    "# search()"
   ]
  },
  {
   "cell_type": "code",
   "execution_count": 7,
   "id": "f896d1d1",
   "metadata": {},
   "outputs": [
    {
     "name": "stdout",
     "output_type": "stream",
     "text": [
      "search successful\n"
     ]
    }
   ],
   "source": [
    "import re\n",
    "string='hello world'\n",
    "result=re.search('hello', string)\n",
    "if result:\n",
    "    print('search successful')\n",
    "    \n",
    "else:\n",
    "    print('search unsuccessful')"
   ]
  },
  {
   "cell_type": "markdown",
   "id": "cf9d5b58",
   "metadata": {},
   "source": [
    "# findall()"
   ]
  },
  {
   "cell_type": "code",
   "execution_count": 8,
   "id": "806349ee",
   "metadata": {},
   "outputs": [
    {
     "name": "stdout",
     "output_type": "stream",
     "text": [
      "['1', '2', '81']\n"
     ]
    }
   ],
   "source": [
    "import re\n",
    "string='hello 1 2 hi 81'\n",
    "pattern='\\d+'\n",
    "result=re.findall(pattern, string)\n",
    "print(result)"
   ]
  },
  {
   "cell_type": "code",
   "execution_count": null,
   "id": "44ec31fa",
   "metadata": {},
   "outputs": [],
   "source": []
  }
 ],
 "metadata": {
  "kernelspec": {
   "display_name": "Python 3 (ipykernel)",
   "language": "python",
   "name": "python3"
  },
  "language_info": {
   "codemirror_mode": {
    "name": "ipython",
    "version": 3
   },
   "file_extension": ".py",
   "mimetype": "text/x-python",
   "name": "python",
   "nbconvert_exporter": "python",
   "pygments_lexer": "ipython3",
   "version": "3.10.9"
  }
 },
 "nbformat": 4,
 "nbformat_minor": 5
}
