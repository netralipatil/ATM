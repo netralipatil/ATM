{
 "cells": [
  {
   "cell_type": "markdown",
   "id": "61cf1b8a",
   "metadata": {},
   "source": [
    "# Demonstrate the following in-built functions to use Regular Expressions very easily in our applications. i) compile ( ) ii) finditer( ) iii) match( ) iv) fullmatch( ) v) search( ) vi) findall( ) vii) sub( ) viii) subn( ) ix) split( )"
   ]
  },
  {
   "cell_type": "markdown",
   "id": "635ea817",
   "metadata": {},
   "source": [
    "# i) compile ( )"
   ]
  },
  {
   "cell_type": "code",
   "execution_count": 84,
   "id": "4f90317e",
   "metadata": {},
   "outputs": [
    {
     "name": "stdout",
     "output_type": "stream",
     "text": [
      "['123', '456']\n"
     ]
    }
   ],
   "source": [
    "import re\n",
    "\n",
    "pattern_string = '\\d+'\n",
    "compiled_pattern = re.compile(pattern_string)\n",
    "\n",
    "text = 'hello and 123 456'\n",
    "\n",
    "matches = compiled_pattern.findall(text)\n",
    "print(matches)\n"
   ]
  },
  {
   "cell_type": "markdown",
   "id": "26076a83",
   "metadata": {},
   "source": [
    "# ii) finditer( )"
   ]
  },
  {
   "cell_type": "code",
   "execution_count": 73,
   "id": "65dde48f",
   "metadata": {},
   "outputs": [
    {
     "name": "stdout",
     "output_type": "stream",
     "text": [
      "<callable_iterator object at 0x0000016864114AC0>\n",
      "<callable_iterator object at 0x0000016864114AC0>\n",
      "<callable_iterator object at 0x0000016864114AC0>\n"
     ]
    }
   ],
   "source": [
    "import re\n",
    "\n",
    "pattern = r'\\d+'\n",
    "string = 'There are 3 apples, 5 bananas, and 8 oranges.'\n",
    "\n",
    "matches = re.finditer(pattern, string)\n",
    "for match in matches:\n",
    "    print(matches)\n"
   ]
  },
  {
   "cell_type": "markdown",
   "id": "4487dc5c",
   "metadata": {},
   "source": [
    "# iii) match( )"
   ]
  },
  {
   "cell_type": "code",
   "execution_count": 71,
   "id": "3ccc617a",
   "metadata": {},
   "outputs": [
    {
     "name": "stdout",
     "output_type": "stream",
     "text": [
      "<re.Match object; span=(0, 3), match='123'>\n"
     ]
    }
   ],
   "source": [
    "import re\n",
    "string='123'\n",
    "pattern='\\d+'\n",
    "result=re.match(pattern,string)\n",
    "print(result)"
   ]
  },
  {
   "cell_type": "markdown",
   "id": "f002dd78",
   "metadata": {},
   "source": [
    "# iv) fullmatch( )"
   ]
  },
  {
   "cell_type": "code",
   "execution_count": 67,
   "id": "0a943414",
   "metadata": {},
   "outputs": [
    {
     "name": "stdout",
     "output_type": "stream",
     "text": [
      "<re.Match object; span=(0, 3), match='123'>\n",
      "None\n"
     ]
    }
   ],
   "source": [
    "import re\n",
    "pattern = '\\d+'\n",
    "string1 = '123'\n",
    "string2 = 'abc123'\n",
    "match1 = re.fullmatch(pattern, string1)\n",
    "match2 = re.fullmatch(pattern, string2)\n",
    "print(match1)  \n",
    "print(match2)  "
   ]
  },
  {
   "cell_type": "markdown",
   "id": "30bfa06b",
   "metadata": {},
   "source": [
    "# v) search( )"
   ]
  },
  {
   "cell_type": "code",
   "execution_count": 52,
   "id": "55e606da",
   "metadata": {},
   "outputs": [
    {
     "name": "stdout",
     "output_type": "stream",
     "text": [
      "search successful\n"
     ]
    }
   ],
   "source": [
    "import re\n",
    "string='hello world'\n",
    "result=re.search('hello', string)\n",
    "if result:\n",
    "    print('search successful')\n",
    "    \n",
    "else:\n",
    "    print('search unsuccessful')"
   ]
  },
  {
   "cell_type": "markdown",
   "id": "a1c48e60",
   "metadata": {},
   "source": [
    "# vi) findall()\n"
   ]
  },
  {
   "cell_type": "code",
   "execution_count": 11,
   "id": "e19b6904",
   "metadata": {},
   "outputs": [
    {
     "name": "stdout",
     "output_type": "stream",
     "text": [
      "['1', '2', '81']\n"
     ]
    }
   ],
   "source": [
    "import re\n",
    "string='hello 1 2 hi 81'\n",
    "pattern='\\d+'\n",
    "result=re.findall(pattern, string)\n",
    "print(result)"
   ]
  },
  {
   "cell_type": "markdown",
   "id": "54ab9f2c",
   "metadata": {},
   "source": [
    "# vii) sub( )"
   ]
  },
  {
   "cell_type": "code",
   "execution_count": 39,
   "id": "8b1f1069",
   "metadata": {},
   "outputs": [
    {
     "name": "stdout",
     "output_type": "stream",
     "text": [
      "The price is thirty rupees\n"
     ]
    }
   ],
   "source": [
    "import re\n",
    "string='The price is Rs.30'\n",
    "pattern='Rs\\.\\d+'\n",
    "replace='thirty rupees'\n",
    "result=re.sub(pattern,replace,string)\n",
    "print(result)"
   ]
  },
  {
   "cell_type": "markdown",
   "id": "bd5f27da",
   "metadata": {},
   "source": [
    "# viii) subn( )"
   ]
  },
  {
   "cell_type": "code",
   "execution_count": 46,
   "id": "e17388b1",
   "metadata": {},
   "outputs": [
    {
     "name": "stdout",
     "output_type": "stream",
     "text": [
      "('hello', 6)\n"
     ]
    }
   ],
   "source": [
    "import re\n",
    "string=' h e l l o '\n",
    "pattern='\\s'\n",
    "replace=''\n",
    "result=re.subn(pattern,replace,string)\n",
    "print(result)"
   ]
  },
  {
   "cell_type": "markdown",
   "id": "40dc3c1e",
   "metadata": {},
   "source": [
    "# ix) split( ) "
   ]
  },
  {
   "cell_type": "code",
   "execution_count": 22,
   "id": "5ec75ee2",
   "metadata": {},
   "outputs": [
    {
     "name": "stdout",
     "output_type": "stream",
     "text": [
      "['apples', ' bananas', ' oranges', ' strawberry', '']\n"
     ]
    }
   ],
   "source": [
    "import re\n",
    "string='apples! bananas! oranges! strawberry!'\n",
    "pattern='!'\n",
    "result=re.split(pattern, string)\n",
    "print(result)"
   ]
  },
  {
   "cell_type": "code",
   "execution_count": null,
   "id": "632a8892",
   "metadata": {},
   "outputs": [],
   "source": []
  }
 ],
 "metadata": {
  "kernelspec": {
   "display_name": "Python 3 (ipykernel)",
   "language": "python",
   "name": "python3"
  },
  "language_info": {
   "codemirror_mode": {
    "name": "ipython",
    "version": 3
   },
   "file_extension": ".py",
   "mimetype": "text/x-python",
   "name": "python",
   "nbconvert_exporter": "python",
   "pygments_lexer": "ipython3",
   "version": "3.10.9"
  }
 },
 "nbformat": 4,
 "nbformat_minor": 5
}
